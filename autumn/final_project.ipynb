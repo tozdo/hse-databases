{
 "cells": [
  {
   "cell_type": "markdown",
   "metadata": {},
   "source": [
    "## Проект по курсу \"Базы данных-1\""
   ]
  },
  {
   "cell_type": "markdown",
   "metadata": {},
   "source": [
    "#### Давайте попробуем хранить параллельный выровненный корпус на несколько языков."
   ]
  },
  {
   "cell_type": "markdown",
   "metadata": {},
   "source": [
    "Введем какие-то данные."
   ]
  },
  {
   "cell_type": "code",
   "execution_count": 12,
   "metadata": {},
   "outputs": [],
   "source": [
    "eng_texts = ['I don\\'t like chocolate.',\n",
    "            'My dearest Barbara Alexievna!']"
   ]
  },
  {
   "cell_type": "code",
   "execution_count": 72,
   "metadata": {},
   "outputs": [],
   "source": [
    "esp_texts = ['No me gusta el chocolate.',\n",
    "            'I querida Barbara Alexievna!']"
   ]
  },
  {
   "cell_type": "code",
   "execution_count": 14,
   "metadata": {},
   "outputs": [],
   "source": [
    "de_texts = ['Ich mag die Schokolade nicht.',\n",
    "           'Meine teure Warwara Alexejewna!']"
   ]
  },
  {
   "cell_type": "markdown",
   "metadata": {},
   "source": [
    "Создаем базу, соединяем с сервером."
   ]
  },
  {
   "cell_type": "code",
   "execution_count": 1,
   "metadata": {},
   "outputs": [],
   "source": [
    "import pymysql.cursors"
   ]
  },
  {
   "cell_type": "code",
   "execution_count": 3,
   "metadata": {},
   "outputs": [],
   "source": [
    "conn = pymysql.connect(host='sql7.freemysqlhosting.net',\n",
    "                             user='sql7302342',\n",
    "                             password='password',\n",
    "                             db='sql7302342',\n",
    "                             cursorclass=pymysql.cursors.DictCursor)\n",
    "cur = conn.cursor()"
   ]
  },
  {
   "cell_type": "code",
   "execution_count": 4,
   "metadata": {},
   "outputs": [
    {
     "data": {
      "text/plain": [
       "2"
      ]
     },
     "execution_count": 4,
     "metadata": {},
     "output_type": "execute_result"
    }
   ],
   "source": [
    "cur.execute('SHOW DATABASES;')"
   ]
  },
  {
   "cell_type": "code",
   "execution_count": 5,
   "metadata": {},
   "outputs": [
    {
     "data": {
      "text/plain": [
       "0"
      ]
     },
     "execution_count": 5,
     "metadata": {},
     "output_type": "execute_result"
    }
   ],
   "source": [
    "cur.execute('SHOW TABLES;')"
   ]
  },
  {
   "cell_type": "markdown",
   "metadata": {},
   "source": [
    "Создадим таблицы."
   ]
  },
  {
   "cell_type": "code",
   "execution_count": 196,
   "metadata": {},
   "outputs": [
    {
     "data": {
      "text/plain": [
       "0"
      ]
     },
     "execution_count": 196,
     "metadata": {},
     "output_type": "execute_result"
    }
   ],
   "source": [
    "cur.execute(\"CREATE TABLE if not exists eng_esp (english text, spanish text)\")"
   ]
  },
  {
   "cell_type": "code",
   "execution_count": 197,
   "metadata": {},
   "outputs": [
    {
     "data": {
      "text/plain": [
       "0"
      ]
     },
     "execution_count": 197,
     "metadata": {},
     "output_type": "execute_result"
    }
   ],
   "source": [
    "cur.execute(\"CREATE TABLE if not exists eng_de (english text, german text);\")"
   ]
  },
  {
   "cell_type": "code",
   "execution_count": 198,
   "metadata": {},
   "outputs": [],
   "source": [
    "for eng_sent, de_sent in zip(eng_texts, de_texts):\n",
    "    cur.execute('INSERT INTO eng_de VALUES(%s, %s);', [eng_sent, de_sent])"
   ]
  },
  {
   "cell_type": "code",
   "execution_count": 199,
   "metadata": {},
   "outputs": [],
   "source": [
    "for eng_sent, esp_sent in zip(eng_texts, esp_texts):\n",
    "    cur.execute('INSERT INTO eng_esp VALUES(%s, %s);', [eng_sent, esp_sent])"
   ]
  },
  {
   "cell_type": "code",
   "execution_count": 200,
   "metadata": {},
   "outputs": [],
   "source": [
    "conn.commit()"
   ]
  },
  {
   "cell_type": "code",
   "execution_count": 201,
   "metadata": {},
   "outputs": [
    {
     "data": {
      "text/plain": [
       "2"
      ]
     },
     "execution_count": 201,
     "metadata": {},
     "output_type": "execute_result"
    }
   ],
   "source": [
    "cur.execute('SELECT * FROM eng_esp')"
   ]
  },
  {
   "cell_type": "code",
   "execution_count": 202,
   "metadata": {},
   "outputs": [
    {
     "data": {
      "text/plain": [
       "[{'english': \"I don't like chocolate.\",\n",
       "  'spanish': 'No me gusta el chocolate.'},\n",
       " {'english': 'My dearest Barbara Alexievna!',\n",
       "  'spanish': 'I querida Barbara Alexievna!'}]"
      ]
     },
     "execution_count": 202,
     "metadata": {},
     "output_type": "execute_result"
    }
   ],
   "source": [
    "cur.fetchall()"
   ]
  },
  {
   "cell_type": "markdown",
   "metadata": {},
   "source": [
    "Создадим какие-то функции."
   ]
  },
  {
   "cell_type": "code",
   "execution_count": 101,
   "metadata": {},
   "outputs": [],
   "source": [
    "#добавить пару в какую-то таблицу\n",
    "def add_pair(table_name, sent1, sent2):\n",
    "    if table_name == 'eng_esp':\n",
    "        cur.execute('INSERT INTO eng_esp VALUES(%s, %s);', [sent1, sent2])\n",
    "    elif table_name == 'eng_de':\n",
    "        cur.execute('INSERT INTO eng_de VALUES(%s, %s);', [sent1, sent2])\n",
    "    conn.commit()"
   ]
  },
  {
   "cell_type": "code",
   "execution_count": 240,
   "metadata": {},
   "outputs": [],
   "source": [
    "add_pair('eng_de', 'Martin is 20 years old.', 'Martin ist 20 Jahres alt.')"
   ]
  },
  {
   "cell_type": "code",
   "execution_count": 241,
   "metadata": {},
   "outputs": [
    {
     "data": {
      "text/plain": [
       "3"
      ]
     },
     "execution_count": 241,
     "metadata": {},
     "output_type": "execute_result"
    }
   ],
   "source": [
    "cur.execute('SELECT * FROM eng_de')"
   ]
  },
  {
   "cell_type": "code",
   "execution_count": 242,
   "metadata": {},
   "outputs": [
    {
     "data": {
      "text/plain": [
       "[{'english': \"I don't like chocolate.\",\n",
       "  'german': 'Ich mag die Schokolade nicht.'},\n",
       " {'english': 'My dearest Barbara Alexievna!',\n",
       "  'german': 'Meine teure Warwara Alexejewna!'},\n",
       " {'english': 'Martin is 20 years old.', 'german': 'Martin ist 20 Jahres alt.'}]"
      ]
     },
     "execution_count": 242,
     "metadata": {},
     "output_type": "execute_result"
    }
   ],
   "source": [
    "cur.fetchall()"
   ]
  },
  {
   "cell_type": "code",
   "execution_count": 144,
   "metadata": {},
   "outputs": [],
   "source": [
    "#удалить пору\n",
    "def delete_pair(table_name, sent):\n",
    "    \n",
    "        if table_name == 'eng_esp':\n",
    "            cur.execute(\"DELETE FROM eng_esp WHERE english = '%s';\" % sent)\n",
    "            \n",
    "        elif table_name == 'eng_de':\n",
    "            cur.execute(\"DELETE FROM eng_de WHERE english = '%s';\" % sent)\n",
    "            \n",
    "        conn.commit()"
   ]
  },
  {
   "cell_type": "markdown",
   "metadata": {},
   "source": [
    "Попытка поговорить с пользователем."
   ]
  },
  {
   "cell_type": "code",
   "execution_count": 171,
   "metadata": {},
   "outputs": [],
   "source": [
    "def hello_user():\n",
    "    \n",
    "    user_lang = input('''Type 1 to see English-Spanish corpora.\\n\n",
    "    Type 2 to see English-German corpora. \\n''')\n",
    "    \n",
    "    if user_lang not in ['1', '2']:\n",
    "        user_lang = input('Please type 1 or 2! \\n')\n",
    "        \n",
    "    if user_lang == '1':\n",
    "        cur.execute('SELECT * from eng_esp')\n",
    "        for i in cur.fetchall():\n",
    "            print(i)\n",
    "    \n",
    "    elif user_lang == '2':\n",
    "        cur.execute('SELECT * from eng_de')\n",
    "        for i in cur.fetchall():\n",
    "            print(i) \n",
    "    \n",
    "    user_query = input('Type 3 if u want to add pair to corpora. \\n')\n",
    "\n",
    "    if user_query == '3':\n",
    "        user_adding = input('''Type: eng_de or eng_esp, phrase in English, phrase in German/Spanish.\n",
    "        Use commas.\\n''')\n",
    "        lang, phrase, translation = user_adding.split(',')\n",
    "        add_pair(lang, phrase, translation)\n",
    "        cur.execute('SELECT * FROM ' + lang)\n",
    "        for i in cur.fetchall():\n",
    "            print(i)\n",
    "        \n",
    "    else:\n",
    "        print('Okay bye')"
   ]
  },
  {
   "cell_type": "code",
   "execution_count": 172,
   "metadata": {},
   "outputs": [
    {
     "name": "stdout",
     "output_type": "stream",
     "text": [
      "Type 1 to see English-Spanish corpora.\n",
      "\n",
      "    Type 2 to see English-German corpora. \n",
      "2\n",
      "{'english': \"I don't like chocolate.\", 'german': 'Ich mag die Schokolade nicht.'}\n",
      "{'english': 'My dearest Barbara Alexievna!', 'german': 'Meine teure Warwara Alexejewna!'}\n",
      "{'english': 'I have a cat', 'german': 'Ich habe ein Kater'}\n",
      "{'english': 'yes', 'german': 'ja'}\n",
      "Type 3 if u want to add pair to corpora. \n",
      "3\n",
      "Type: eng_de or eng_esp, phrase in English, phrase in German/Spanish.\n",
      "        Use commas.\n",
      "eng_de,no,nein\n",
      "{'english': \"I don't like chocolate.\", 'german': 'Ich mag die Schokolade nicht.'}\n",
      "{'english': 'My dearest Barbara Alexievna!', 'german': 'Meine teure Warwara Alexejewna!'}\n",
      "{'english': 'I have a cat', 'german': 'Ich habe ein Kater'}\n",
      "{'english': 'yes', 'german': 'ja'}\n",
      "{'english': 'no', 'german': 'nein'}\n"
     ]
    }
   ],
   "source": [
    "hello_user()"
   ]
  },
  {
   "cell_type": "code",
   "execution_count": 179,
   "metadata": {},
   "outputs": [],
   "source": [
    "cur.execute('DROP TABLE eng_esp')\n",
    "cur.execute('DROP TABLE eng_de')\n",
    "conn.commit()"
   ]
  },
  {
   "cell_type": "markdown",
   "metadata": {},
   "source": [
    "Попытаемся получить перевод нужной нам фразы."
   ]
  },
  {
   "cell_type": "code",
   "execution_count": 244,
   "metadata": {},
   "outputs": [],
   "source": [
    "def get_translation(lang, phrase):\n",
    "    \n",
    "    if lang == 'spanish':\n",
    "        cur.execute('SELECT spanish FROM eng_esp WHERE english = %s;', phrase)\n",
    "        for i in cur.fetchall():\n",
    "            print(i['spanish'])\n",
    "    \n",
    "    elif lang == 'german':\n",
    "        cur.execute('SELECT german FROM eng_de WHERE english = %s;', phrase)\n",
    "        for i in cur.fetchall():\n",
    "            print(i['german'])\n",
    "    \n",
    "    else:\n",
    "        print('Sorry, seems like there is no such translation.')"
   ]
  },
  {
   "cell_type": "code",
   "execution_count": 220,
   "metadata": {},
   "outputs": [
    {
     "name": "stdout",
     "output_type": "stream",
     "text": [
      "I querida Barbara Alexievna!\n"
     ]
    }
   ],
   "source": [
    "get_translation('spanish', 'My dearest Barbara Alexievna!')"
   ]
  },
  {
   "cell_type": "markdown",
   "metadata": {},
   "source": [
    "Попытаемся найти все переводы для одной фразы."
   ]
  },
  {
   "cell_type": "code",
   "execution_count": 249,
   "metadata": {},
   "outputs": [],
   "source": [
    "def all_translations(phrase):\n",
    "    #используем using потому что в таблицах ключевой столбец имеет одно и то же имя\n",
    "    cur.execute('SELECT * FROM eng_esp INNER JOIN eng_de using(english) WHERE english = %s;', phrase)\n",
    "    for i in cur.fetchall():\n",
    "        print('Spanish: ' + i['spanish'], '\\nGerman: ' + i['german'])"
   ]
  },
  {
   "cell_type": "code",
   "execution_count": 239,
   "metadata": {},
   "outputs": [
    {
     "name": "stdout",
     "output_type": "stream",
     "text": [
      "Spanish: I querida Barbara Alexievna! \n",
      "German: Meine teure Warwara Alexejewna!\n"
     ]
    }
   ],
   "source": [
    "all_translations('My dearest Barbara Alexievna!')"
   ]
  },
  {
   "cell_type": "code",
   "execution_count": null,
   "metadata": {},
   "outputs": [],
   "source": []
  },
  {
   "cell_type": "code",
   "execution_count": 173,
   "metadata": {},
   "outputs": [],
   "source": [
    "cur.close()\n",
    "conn.close()"
   ]
  }
 ],
 "metadata": {
  "kernelspec": {
   "display_name": "Python 3",
   "language": "python",
   "name": "python3"
  },
  "language_info": {
   "codemirror_mode": {
    "name": "ipython",
    "version": 3
   },
   "file_extension": ".py",
   "mimetype": "text/x-python",
   "name": "python",
   "nbconvert_exporter": "python",
   "pygments_lexer": "ipython3",
   "version": "3.6.5"
  }
 },
 "nbformat": 4,
 "nbformat_minor": 2
}
