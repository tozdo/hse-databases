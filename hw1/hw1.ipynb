{
 "cells": [
  {
   "cell_type": "markdown",
   "metadata": {},
   "source": [
    "## Домашнее задание 1"
   ]
  },
  {
   "cell_type": "markdown",
   "metadata": {},
   "source": [
    "#### Мы - социальная сеть. Необходимо хранить информацию о пользователях и их друзьях."
   ]
  },
  {
   "cell_type": "markdown",
   "metadata": {},
   "source": [
    "Будем использовать sqlite3."
   ]
  },
  {
   "cell_type": "code",
   "execution_count": 1,
   "metadata": {},
   "outputs": [],
   "source": [
    "import sqlite3"
   ]
  },
  {
   "cell_type": "code",
   "execution_count": 35,
   "metadata": {},
   "outputs": [],
   "source": [
    "conn = sqlite3.connect('social_network.db')\n",
    "cur = conn.cursor()"
   ]
  },
  {
   "cell_type": "code",
   "execution_count": 36,
   "metadata": {},
   "outputs": [
    {
     "data": {
      "text/plain": [
       "<sqlite3.Cursor at 0x12b7d60>"
      ]
     },
     "execution_count": 36,
     "metadata": {},
     "output_type": "execute_result"
    }
   ],
   "source": [
    "cur.execute('CREATE TABLE if not exists vsetke(user, friends)')"
   ]
  },
  {
   "cell_type": "code",
   "execution_count": 37,
   "metadata": {},
   "outputs": [],
   "source": [
    "cur.execute('INSERT INTO vsetke(user, friends) VALUES(?, ?)', ['me', 'my friend'])\n",
    "\n",
    "conn.commit()"
   ]
  },
  {
   "cell_type": "code",
   "execution_count": 38,
   "metadata": {},
   "outputs": [],
   "source": [
    "cur.execute('INSERT INTO vsetke(user, friends) VALUES(?, ?)', ['me', 'friend of my friend'])\n",
    "\n",
    "conn.commit()"
   ]
  },
  {
   "cell_type": "code",
   "execution_count": 39,
   "metadata": {},
   "outputs": [],
   "source": [
    "def hello_user():\n",
    "    try:\n",
    "        \n",
    "        answer1 = input('Введите человека: ')\n",
    "        answer2 = input('Введите его друга: ')\n",
    "        \n",
    "        cur.execute('INSERT INTO vsetke(user, friends) VALUES(?, ?)', [answer1, answer2])\n",
    "        conn.commit()\n",
    "        \n",
    "        answer3 = input('Спасибо. Если хотите посмотреть, как выглядит база данных, введите 1: ')\n",
    "        if answer3 == '1':\n",
    "            cur.execute('SELECT * FROM vsetke')\n",
    "            print(cur.fetchall())\n",
    "        \n",
    "        else:\n",
    "            print('До новых встреч!')\n",
    "    \n",
    "    except:\n",
    "        print('Что-то пошло не так.')"
   ]
  },
  {
   "cell_type": "code",
   "execution_count": 40,
   "metadata": {},
   "outputs": [
    {
     "name": "stdout",
     "output_type": "stream",
     "text": [
      "Введите человека: Феликс\n",
      "Введите его друга: Зосим\n",
      "Спасибо. Если хотите посмотреть, как выглядит база данных, введите 1: 1\n",
      "[('me', 'my friend'), ('me', 'friend of my friend'), ('Феликс', 'Зосим')]\n"
     ]
    }
   ],
   "source": [
    "hello_user()"
   ]
  },
  {
   "cell_type": "code",
   "execution_count": 41,
   "metadata": {},
   "outputs": [],
   "source": [
    "conn.close()"
   ]
  }
 ],
 "metadata": {
  "kernelspec": {
   "display_name": "Python 3",
   "language": "python",
   "name": "python3"
  },
  "language_info": {
   "codemirror_mode": {
    "name": "ipython",
    "version": 3
   },
   "file_extension": ".py",
   "mimetype": "text/x-python",
   "name": "python",
   "nbconvert_exporter": "python",
   "pygments_lexer": "ipython3",
   "version": "3.6.5"
  }
 },
 "nbformat": 4,
 "nbformat_minor": 2
}
